{
  "nbformat": 4,
  "nbformat_minor": 0,
  "metadata": {
    "colab": {
      "provenance": [],
      "authorship_tag": "ABX9TyP/wZ22pGKo2G7A0b7/sGOv",
      "include_colab_link": true
    },
    "kernelspec": {
      "name": "python3",
      "display_name": "Python 3"
    },
    "language_info": {
      "name": "python"
    }
  },
  "cells": [
    {
      "cell_type": "markdown",
      "metadata": {
        "id": "view-in-github",
        "colab_type": "text"
      },
      "source": [
        "<a href=\"https://colab.research.google.com/github/QuentinPhil/QuentinPhil/blob/main/DATA44002/HW0/hw0_2.ipynb\" target=\"_parent\"><img src=\"https://colab.research.google.com/assets/colab-badge.svg\" alt=\"Open In Colab\"/></a>"
      ]
    },
    {
      "cell_type": "markdown",
      "source": [
        "# HW0 - pt.2\n",
        "### Quentin Phillips\n",
        "### DATA 440, Fall 2023\n",
        "\n",
        "# Q1\n",
        "\n",
        "![pic](https://github.com/QuentinPhil/DATA44002/blob/main/HW0/Screenshot%20(3).png?raw=true)\n",
        "\n",
        "*Note: the user says gcheyde because I was using my roommates access to cs computers; this will not usually be the case.\n",
        "\n",
        "# Q2\n",
        "\n",
        "![pic](https://github.com/QuentinPhil/DATA44002/blob/main/HW0/Screenshot%20(6).png?raw=true)\n",
        "\n",
        "![pic](https://github.com/QuentinPhil/DATA44002/blob/main/HW0/Screenshot%20(7).png?raw=true)\n",
        "\n",
        "These pictures contain all of the commands run and their outputs\n",
        "\n",
        "## Command 1 - wc -l test.txt\n",
        "\n",
        "This command gives the number of lines in the text file, in this case, 6.\n",
        "\n",
        "## Command 2 - echo \"CS 800\" >> test.txt; cat test.txt\n",
        "\n",
        "This command copies the file and displays the given input, in this case, \"CS 800\".\n",
        "\n",
        "## Command 3 - grep CS test.txt\n",
        "\n",
        "This command searches the text file for the input \"CS\" and matches the relevant lines.\n",
        "\n",
        "## Command 4 - grep -c CS test.txt\n",
        "\n",
        "This command displays a count of the lines that fit the grep pattern.\n",
        "\n",
        "## Command 5 - sort test.txt\n",
        "\n",
        "This command sorts the lines of text alphabetically.\n",
        "\n",
        "## Command 6 - sort -k2 test.txt\n",
        "\n",
        "Sort according to the key, in this case 2.\n",
        "\n",
        "## Command 7 - sort -k2 -n test.txt\n",
        "\n",
        "Same as above but sort by numerical values\n",
        "\n",
        "## Command 8 - sort test.txt | uniq -c\n",
        "\n",
        "Same as above but checking to see if the line is unique first\n",
        "\n",
        "# References\n",
        "\n",
        "* Linux Sort Options, <https://phoenixnap.com/kb/linux-sort>\n",
        "* Linux Creating Directory, <https://www.redhat.com/sysadmin/create-delete-files-directories-linux#:~:text=Create%20a%20directory&text=The%20basic%20syntax%20for%20using,Linux%20filesystems%20are%20case%2Dsensitive.>"
      ],
      "metadata": {
        "id": "4oFy7USLPPpY"
      }
    },
    {
      "cell_type": "code",
      "source": [],
      "metadata": {
        "id": "Ba6MlT_kPR7D"
      },
      "execution_count": null,
      "outputs": []
    }
  ]
}