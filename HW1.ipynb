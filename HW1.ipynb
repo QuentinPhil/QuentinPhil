{
  "nbformat": 4,
  "nbformat_minor": 0,
  "metadata": {
    "colab": {
      "provenance": [],
      "authorship_tag": "ABX9TyMUWyIufNqk0zSDupDNa15y",
      "include_colab_link": true
    },
    "kernelspec": {
      "name": "python3",
      "display_name": "Python 3"
    },
    "language_info": {
      "name": "python"
    }
  },
  "cells": [
    {
      "cell_type": "markdown",
      "metadata": {
        "id": "view-in-github",
        "colab_type": "text"
      },
      "source": [
        "<a href=\"https://colab.research.google.com/github/QuentinPhil/QuentinPhil/blob/main/HW1.ipynb\" target=\"_parent\"><img src=\"https://colab.research.google.com/assets/colab-badge.svg\" alt=\"Open In Colab\"/></a>"
      ]
    },
    {
      "cell_type": "markdown",
      "source": [
        "# HW1\n",
        "### Quentin Phillips\n",
        "### DATA 440, Fall 2023\n",
        "### 9/21/23\n",
        "\n",
        "# Q1\n"
      ],
      "metadata": {
        "id": "HxOtgURiWo2b"
      }
    },
    {
      "cell_type": "code",
      "source": [
        "import networkx as nx\n",
        "import matplotlib.pyplot as plt\n",
        "G = nx.DiGraph()\n",
        "\n",
        "G.add_nodes_from([1, 2, 3, 4, 5, 6, 7, 8, 9, 10, 11, 12, 13, 14, 15])\n",
        "G.add_edges_from([(1,2), (2,3), (3,4), (3,1), (3,7), (5,6), (7,3), (7,8), (9,8), (9,10), (11,4), (12,1), (12,13), (13,4), (14,1), (15,7)])\n",
        "\n",
        "labels = {1:\"A\", 2:\"B\", 3:\"C\", 4:\"D\", 5:\"E\", 6:\"F\", 7:\"G\", 8:\"H\", 9:\"I\", 10:\"K\", 11:\"L\", 12:\"M\", 13:\"N\", 14:\"O\", 15:\"P\"}\n",
        "nx.draw(G, labels=labels)"
      ],
      "metadata": {
        "colab": {
          "base_uri": "https://localhost:8080/",
          "height": 516
        },
        "id": "vH_oVYlLXJpt",
        "outputId": "e55d70e9-5d33-4517-8c6f-b6658e9c88a7"
      },
      "execution_count": null,
      "outputs": [
        {
          "output_type": "display_data",
          "data": {
            "text/plain": [
              "<Figure size 640x480 with 1 Axes>"
            ],
            "image/png": "[encoded data removed]"
          },
          "metadata": {}
        }
      ]
    },
    {
      "cell_type": "markdown",
      "source": [
        "SCC: A, B, C, G\n",
        "\n",
        "IN: O, P, M\n",
        "\n",
        "OUT: D, H\n",
        "\n",
        "TENDRILS: I, K, L\n",
        "\n",
        "TUBES: N\n",
        "\n",
        "DISCONNECTED: E, F\n",
        "\n",
        "## Q2\n",
        "\n",
        "The first picture shows the result after following the link listed on the assignment.\n",
        "\n",
        "![pic](https://github.com/QuentinPhil/DATA44002/blob/main/HW1/Screenshot%20(8).png?raw=true)\n",
        "\n",
        "The next picture shows the full curl command used.\n",
        "\n",
        "![pic](https://github.com/QuentinPhil/DATA44002/blob/main/HW1/Screenshot%20(10).png?raw=true)\n",
        "\n",
        "## Q3"
      ],
      "metadata": {
        "id": "ofeLHU1xmkQG"
      }
    },
    {
      "cell_type": "code",
      "source": [
        "from bs4 import BeautifulSoup\n",
        "import requests\n",
        "\n",
        "def get_pdfs(url):\n",
        "    try:\n",
        "        # Get the URL content\n",
        "        response = requests.get(url)\n",
        "        response.raise_for_status()\n",
        "        html_content = response.content\n",
        "\n",
        "        # Parse the HTML content\n",
        "        soup = BeautifulSoup(html_content, \"html.parser\")\n",
        "\n",
        "        # Create an empty set for storing the PDF links\n",
        "        list_of_pdf = set()\n",
        "        p = soup.find('p')\n",
        "\n",
        "        # Finds just the pdfs\n",
        "        links = p.find_all('a')\n",
        "\n",
        "        for link in links:\n",
        "\n",
        "            # Original HTML links\n",
        "            print(\"Link: \", link.get('href'))\n",
        "            print(\"\\n\")\n",
        "\n",
        "            # Convert the extension from .html to .pdf\n",
        "            pdf_link = (link.get('href')[:-5]) + \".pdf\"\n",
        "\n",
        "            rep = requests.get(link.get('href'))\n",
        "            content_length = rep.headers.get('content-length')\n",
        "            print(\"Content Length: \" + str(content_length) + \" Bytes\")\n",
        "\n",
        "            # Converted to .pdf\n",
        "            print(\"Converted PDF link: \", pdf_link)\n",
        "            print(\"\\n\")\n",
        "\n",
        "            # Add the PDF link to the set\n",
        "            list_of_pdf.add(pdf_link)\n",
        "\n",
        "        return list_of_pdf\n",
        "\n",
        "    except requests.exceptions.RequestException as e:\n",
        "        print(f\"Error: {e}\")"
      ],
      "metadata": {
        "id": "RltOK4YhLKsL"
      },
      "execution_count": null,
      "outputs": []
    },
    {
      "cell_type": "code",
      "source": [
        "get_pdfs(\"https://alexandernwala.com/files/teaching/fall-2022/week-2/2018_wsdl_publications.html\")"
      ],
      "metadata": {
        "colab": {
          "base_uri": "https://localhost:8080/"
        },
        "id": "R-LghwQ4nd62",
        "outputId": "5477f038-d41c-4f2d-89d2-e1b54baf7b23"
      },
      "execution_count": null,
      "outputs": [
        {
          "output_type": "stream",
          "name": "stdout",
          "text": [
            "Link:  http://www.cs.odu.edu/~mln/pubs/ht-2018/hypertext-2018-nwala-bootstrapping.pdf\n",
            "\n",
            "\n",
            "Content Length: 994153 Bytes\n",
            "Converted PDF link:  http://www.cs.odu.edu/~mln/pubs/ht-2018/hypertext-2018-nwala-bootstrappin.pdf\n",
            "\n",
            "\n",
            "Link:  http://www.cs.odu.edu/~mln/pubs/ipres-2018/ipres-2018-atkins-news-similarity.pdf\n",
            "\n",
            "\n",
            "Content Length: 18995885 Bytes\n",
            "Converted PDF link:  http://www.cs.odu.edu/~mln/pubs/ipres-2018/ipres-2018-atkins-news-similarit.pdf\n",
            "\n",
            "\n",
            "Link:  https://arxiv.org/abs/1806.09082\n",
            "\n",
            "\n",
            "Content Length: None Bytes\n",
            "Converted PDF link:  https://arxiv.org/abs/1806..pdf\n",
            "\n",
            "\n",
            "Link:  http://www.cs.odu.edu/~mln/pubs/ipres-2018/ipres-2018-jones-off-topic.pdf\n",
            "\n",
            "\n",
            "Content Length: 3119205 Bytes\n",
            "Converted PDF link:  http://www.cs.odu.edu/~mln/pubs/ipres-2018/ipres-2018-jones-off-topi.pdf\n",
            "\n",
            "\n",
            "Link:  https://arxiv.org/abs/1806.06870\n",
            "\n",
            "\n",
            "Content Length: None Bytes\n",
            "Converted PDF link:  https://arxiv.org/abs/1806..pdf\n",
            "\n",
            "\n",
            "Link:  http://www.cs.odu.edu/~mln/pubs/ipres-2018/ipres-2018-jones-archiveit.pdf\n",
            "\n",
            "\n",
            "Content Length: 2639215 Bytes\n",
            "Converted PDF link:  http://www.cs.odu.edu/~mln/pubs/ipres-2018/ipres-2018-jones-archivei.pdf\n",
            "\n",
            "\n",
            "Link:  https://arxiv.org/abs/1806.06878\n",
            "\n",
            "\n",
            "Content Length: None Bytes\n",
            "Converted PDF link:  https://arxiv.org/abs/1806..pdf\n",
            "\n",
            "\n",
            "Link:  http://www.cs.odu.edu/~mln/pubs/jcdl-2018/jcdl-2018-nwala-scraping-serps-seeds.pdf\n",
            "\n",
            "\n",
            "Content Length: 2172494 Bytes\n",
            "Converted PDF link:  http://www.cs.odu.edu/~mln/pubs/jcdl-2018/jcdl-2018-nwala-scraping-serps-seed.pdf\n",
            "\n",
            "\n",
            "Link:  http://arxiv.org/abs/1805.10260\n",
            "\n",
            "\n",
            "Content Length: None Bytes\n",
            "Converted PDF link:  http://arxiv.org/abs/1805..pdf\n",
            "\n",
            "\n",
            "Link:  http://www.cs.odu.edu/~mln/pubs/jcdl-2018/jcdl-2018-kelly-private-public-web-archives.pdf\n",
            "\n",
            "\n",
            "Content Length: 2553579 Bytes\n",
            "Converted PDF link:  http://www.cs.odu.edu/~mln/pubs/jcdl-2018/jcdl-2018-kelly-private-public-web-archive.pdf\n",
            "\n",
            "\n",
            "Link:  https://arxiv.org/abs/1806.00871\n",
            "\n",
            "\n",
            "Content Length: None Bytes\n",
            "Converted PDF link:  https://arxiv.org/abs/1806..pdf\n",
            "\n",
            "\n",
            "Link:  http://www.cs.odu.edu/~mln/pubs/jcdl-2018/jcdl-2018-aturban-archivenow.pdf\n",
            "\n",
            "\n",
            "Content Length: 3998654 Bytes\n",
            "Converted PDF link:  http://www.cs.odu.edu/~mln/pubs/jcdl-2018/jcdl-2018-aturban-archiveno.pdf\n",
            "\n",
            "\n",
            "Link:  http://www.cs.odu.edu/~mln/pubs/jcdl-2018/jcdl-2018-alam-archive-banner.pdf\n",
            "\n",
            "\n",
            "Content Length: 596000 Bytes\n",
            "Converted PDF link:  http://www.cs.odu.edu/~mln/pubs/jcdl-2018/jcdl-2018-alam-archive-banne.pdf\n",
            "\n",
            "\n",
            "Link:  http://dx.doi.org/10.1007/s00799-016-0200-8\n",
            "\n",
            "\n",
            "Content Length: None Bytes\n",
            "Converted PDF link:  http://dx.doi.org/10.1007/s00799-016-0.pdf\n",
            "\n",
            "\n"
          ]
        },
        {
          "output_type": "execute_result",
          "data": {
            "text/plain": [
              "{'http://arxiv.org/abs/1805..pdf',\n",
              " 'http://dx.doi.org/10.1007/s00799-016-0.pdf',\n",
              " 'http://www.cs.odu.edu/~mln/pubs/ht-2018/hypertext-2018-nwala-bootstrappin.pdf',\n",
              " 'http://www.cs.odu.edu/~mln/pubs/ipres-2018/ipres-2018-atkins-news-similarit.pdf',\n",
              " 'http://www.cs.odu.edu/~mln/pubs/ipres-2018/ipres-2018-jones-archivei.pdf',\n",
              " 'http://www.cs.odu.edu/~mln/pubs/ipres-2018/ipres-2018-jones-off-topi.pdf',\n",
              " 'http://www.cs.odu.edu/~mln/pubs/jcdl-2018/jcdl-2018-alam-archive-banne.pdf',\n",
              " 'http://www.cs.odu.edu/~mln/pubs/jcdl-2018/jcdl-2018-aturban-archiveno.pdf',\n",
              " 'http://www.cs.odu.edu/~mln/pubs/jcdl-2018/jcdl-2018-kelly-private-public-web-archive.pdf',\n",
              " 'http://www.cs.odu.edu/~mln/pubs/jcdl-2018/jcdl-2018-nwala-scraping-serps-seed.pdf',\n",
              " 'https://arxiv.org/abs/1806..pdf'}"
            ]
          },
          "metadata": {},
          "execution_count": 104
        }
      ]
    },
    {
      "cell_type": "code",
      "source": [
        "get_pdfs(\"https://ocw.mit.edu/courses/6-189-a-gentle-introduction-to-programming-using-python-january-iap-2011/pages/lectures/\")"
      ],
      "metadata": {
        "colab": {
          "base_uri": "https://localhost:8080/"
        },
        "id": "MDffFLPilJW7",
        "outputId": "6e11d8c5-fa0f-4762-ea81-f77ab5178e7c"
      },
      "execution_count": null,
      "outputs": [
        {
          "output_type": "execute_result",
          "data": {
            "text/plain": [
              "set()"
            ]
          },
          "metadata": {},
          "execution_count": 93
        }
      ]
    },
    {
      "cell_type": "markdown",
      "source": [
        "# References\n",
        "\n",
        "\n",
        "* PDF scraping skeleton, <https://www.geeksforgeeks.org/how-to-scrape-all-pdf-files-in-a-website/>\n",
        "* Curl command, <https://linuxize.com/post/curl-command-examples/#:~:text=The%20syntax%20for%20the%20curl,%5D%20%5BURL...%5D&text=In%20its%20simplest%20form%2C%20when,resource%20to%20the%20standard%20output.&text=The%20command%20will%20print%20the,homepage%20in%20your%20terminal%20window.>"
      ],
      "metadata": {
        "id": "bbniqyD5jWwK"
      }
    },
    {
      "cell_type": "code",
      "source": [],
      "metadata": {
        "id": "XXeXPwcsjYSs"
      },
      "execution_count": null,
      "outputs": []
    }
  ]
}