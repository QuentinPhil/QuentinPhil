{
  "nbformat": 4,
  "nbformat_minor": 0,
  "metadata": {
    "colab": {
      "provenance": [],
      "include_colab_link": true
    },
    "kernelspec": {
      "name": "python3",
      "display_name": "Python 3"
    },
    "language_info": {
      "name": "python"
    }
  },
  "cells": [
    {
      "cell_type": "markdown",
      "metadata": {
        "id": "view-in-github",
        "colab_type": "text"
      },
      "source": [
        "<a href=\"https://colab.research.google.com/github/QuentinPhil/QuentinPhil/blob/main/hw0_report.ipynb\" target=\"_parent\"><img src=\"https://colab.research.google.com/assets/colab-badge.svg\" alt=\"Open In Colab\"/></a>"
      ]
    },
    {
      "cell_type": "markdown",
      "source": [
        "All Notebooks must start with code which allows opening the file in Google collab. For example the following code, is responsible for the `Open in Colab` blue button.\n",
        "```\n",
        "[![Open in Colab](https://colab.research.google.com/assets/colab-badge.svg)](https://colab.research.google.com/github/anwala/teaching-network-science/blob/main/spring-2023/week-1/data_340_02_report_template.ipynb)\n",
        "```\n",
        "[![Open in Colab](https://colab.research.google.com/assets/colab-badge.svg)](https://colab.research.google.com/github/anwala/teaching-network-science/blob/main/spring-2023/week-1/data_340_02_report_template.ipynb)\n",
        "\n",
        "Ensure that you include the correct file path of your notebook file. Study the location of my [notebook file on Github](https://github.com/anwala/teaching-network-science/blob/main/spring-2023/week-1/data_340_02_report_template.ipynb) and above path (`github/anwala/teaching-network-science/blob/main/spring-2023/week-1/data_340_02_report_template.ipynb`) I used to produce the blue button. "
      ],
      "metadata": {
        "id": "xTdmMKYmwWOV"
      }
    },
    {
      "cell_type": "markdown",
      "source": [
        "# HW0\n",
        "### Quentin Phillips\n",
        "### DATA 340-02\n",
        "### 2/2/2023\n"
      ],
      "metadata": {
        "id": "cnaJOC71wJvb"
      }
    },
    {
      "cell_type": "markdown",
      "source": [
        "# Q1\n",
        "\n",
        "*You may copy the question into your report, but make sure that you make it clear where the question ends and your answer begins.*\n",
        "\n",
        "## Answer\n",
        "\n",
        "The example picture shows Tim Henson's signature acoustic guitar, the Ibanez TOD10N.\n",
        "\n",
        "\n",
        "\n",
        "*In addition to screenshots, include code in your report*"
      ],
      "metadata": {
        "id": "N2VNck0DylKe"
      }
    },
    {
      "cell_type": "code",
      "source": [
        "print(\"This is my homework\")"
      ],
      "metadata": {
        "colab": {
          "base_uri": "https://localhost:8080/"
        },
        "id": "gMfPsTR0zJrJ",
        "outputId": "3fd50d02-8e46-488d-c8f0-2867fcae8dc4"
      },
      "execution_count": null,
      "outputs": [
        {
          "output_type": "stream",
          "name": "stdout",
          "text": [
            "This is my homework\n"
          ]
        }
      ]
    },
    {
      "cell_type": "markdown",
      "source": [
        "The table below shows a simple table.  \n",
        "\n",
        "|Week|Date|Topic|\n",
        "|:---|:---|:---|\n",
        "|1|Jan 26|Introductions|\n",
        "|2|Jan 31 & Feb 2|Network Elements|\n",
        "|3|Feb 7 & 9|Network Elements|\n",
        "|4|Feb 14 & 16|Small Worlds|"
      ],
      "metadata": {
        "id": "IZ2yQEolpc5R"
      }
    },
    {
      "cell_type": "markdown",
      "source": [
        "\n",
        "* \"Twenty Years of Network Science\", <https://www.nature.com/articles/d41586-018-05444-y>\n",
        "* \"Bridging the Gap Between Graphs and Networks\", <https://www.nature.com/articles/s42005-020-0359-6>\n",
        "* \"One Model to Rule Them All in Network Science\", <https://www.pnas.org/doi/10.1073/pnas.2017807117>"
      ],
      "metadata": {
        "id": "CL4_WDbOzkGK"
      }
    }
  ]
}